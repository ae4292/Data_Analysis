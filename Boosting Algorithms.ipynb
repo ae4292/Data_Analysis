{
 "cells": [
  {
   "cell_type": "markdown",
   "metadata": {},
   "source": [
    "### Import Necessary Libraries"
   ]
  },
  {
   "cell_type": "code",
   "execution_count": 2,
   "metadata": {},
   "outputs": [],
   "source": [
    "import pandas as pd\n",
    "import numpy as np\n",
    "import datetime\n",
    "from datetime import date\n",
    "from sklearn.metrics import r2_score\n"
   ]
  },
  {
   "cell_type": "markdown",
   "metadata": {},
   "source": [
    "### Load Dataset"
   ]
  },
  {
   "cell_type": "code",
   "execution_count": 3,
   "metadata": {},
   "outputs": [],
   "source": [
    "stockx_data = pd.read_excel(\"./StockX-Data-Contest-2019.xlsx\",sheet_name=\"Raw Data\")\n",
    "color = pd.read_excel(\"./supplemental_data_colorway.xlsx\",sheet_name=\"Sheet1\")"
   ]
  },
  {
   "cell_type": "code",
   "execution_count": 4,
   "metadata": {},
   "outputs": [],
   "source": [
    "# --- Data Cleaning ---\n",
    "# calculate price premium: (sale price - retail price)/retail price\n",
    "stockx_data[\"Price_Percentage_change\"] = (stockx_data['Sale Price'] - stockx_data['Retail Price'])/stockx_data['Retail Price']\n",
    "\n",
    "# calculate days since release: order data - release date\n",
    "stockx_data[\"Days_Since_Release\"] = (pd.to_datetime(stockx_data['Order Date']) - pd.to_datetime(stockx_data['Release Date']))/np.timedelta64('1','D')\n",
    "\n",
    "# --- style variables ---\n",
    "# style: v2\n",
    "stockx_data[\"yeezy\"] = stockx_data['Sneaker Name'].apply(lambda x : 1 if 'Yeezy' in x.split(\"-\") else 0)\n",
    "# style: airjordan\n",
    "stockx_data[\"airjordan\"] = stockx_data['Sneaker Name'].apply(lambda x : 1 if 'Jordan' in x.split(\"-\") else 0)\n",
    "# style: airforce\n",
    "stockx_data[\"airforce\"] = stockx_data['Sneaker Name'].apply(lambda x : 1 if 'Force' in x.split(\"-\") else 0)\n",
    "# style: airmax90\n",
    "stockx_data[\"airmax90\"] = stockx_data['Sneaker Name'].apply(lambda x : 1 if '90' in x.split(\"-\") else 0)\n",
    "# style: airmax97\n",
    "stockx_data[\"airmax97\"] = stockx_data['Sneaker Name'].apply(lambda x : 1 if '97' in x.split(\"-\") else 0)\n",
    "# style: presto\n",
    "stockx_data[\"presto\"] = stockx_data['Sneaker Name'].apply(lambda x : 1 if 'Presto' in x.split(\"-\") else 0)\n",
    "# style: vapormax\n",
    "stockx_data[\"vapormax\"] = stockx_data['Sneaker Name'].apply(lambda x : 1 if 'VaporMax' in x.split(\"-\") else 0)\n",
    "# style: blazer\n",
    "stockx_data[\"blazer\"] = stockx_data['Sneaker Name'].apply(lambda x : 1 if 'Blazer' in x.split(\"-\") else 0)\n",
    "# style: zoom\n",
    "stockx_data[\"zoom\"] = stockx_data['Sneaker Name'].apply(lambda x : 1 if 'Zoom' in x.split(\"-\") else 0)\n",
    "# style: zoom\n",
    "stockx_data[\"react\"] = stockx_data['Sneaker Name'].apply(lambda x : 1 if 'React' in x.split(\"-\") else 0)\n",
    "\n",
    "# --- state variables ---\n",
    "# creating the california variable\n",
    "stockx_data[\"California\"] = stockx_data[\"Buyer Region\"].apply(lambda x : 1 if 'California' in x else 0)\n",
    "# creating the new_york variable\n",
    "stockx_data[\"New York\"] = stockx_data[\"Buyer Region\"].apply(lambda x : 1 if 'New York' in x else 0)\n",
    "# creating the oregon variable\n",
    "stockx_data[\"Oregon\"] = stockx_data[\"Buyer Region\"].apply(lambda x : 1 if 'Oregon' in x else 0)\n",
    "# creating the florida variable\n",
    "stockx_data[\"Florida\"] = stockx_data[\"Buyer Region\"].apply(lambda x : 1 if 'Florida' in x else 0)\n",
    "# creating the texas variable\n",
    "stockx_data[\"Texas\"] = stockx_data[\"Buyer Region\"].apply(lambda x : 1 if 'Texas' in x else 0)\n",
    "# creating the other_state variable\n",
    "above5pct_states = [\"California\", \"New York\", \"Oregon\", \"Florida\", \"Texas\"]\n",
    "stockx_data[\"Other States\"] = pd.Series(list(map(int,~stockx_data[\"Buyer Region\"].isin(above5pct_states))))\n"
   ]
  },
  {
   "cell_type": "code",
   "execution_count": 5,
   "metadata": {},
   "outputs": [],
   "source": [
    "stockx_data = stockx_data.merge(color, left_on = 'Sneaker Name', right_on = 'Style', how = 'left')\n",
    "stockx_data = stockx_data.drop(columns = ['Order Date', 'Brand','Sneaker Name', 'Release Date', 'Buyer Region',\n",
    "                                         'Website', 'Product Line', 'Style'])\n",
    "stockx_data = stockx_data.fillna(0)"
   ]
  },
  {
   "cell_type": "markdown",
   "metadata": {},
   "source": [
    "### Make Training and Testing Data"
   ]
  },
  {
   "cell_type": "code",
   "execution_count": 6,
   "metadata": {},
   "outputs": [],
   "source": [
    "#import the train-test split\n",
    "from sklearn.model_selection import train_test_split"
   ]
  },
  {
   "cell_type": "code",
   "execution_count": 7,
   "metadata": {},
   "outputs": [],
   "source": [
    "from sklearn.model_selection import train_test_split\n",
    "y = stockx_data[\"Price_Percentage_change\"]\n",
    "X = stockx_data.drop([\"Sale Price\",'Price_Percentage_change', \"Other States\", \"New York\", \"Texas\"], axis = 1)\n",
    "X_train, X_test, y_train, y_test = train_test_split(X, y, test_size=0.33, random_state=808)"
   ]
  },
  {
   "cell_type": "code",
   "execution_count": 8,
   "metadata": {},
   "outputs": [],
   "source": [
    "from sklearn.metrics import mean_squared_error as mse"
   ]
  },
  {
   "cell_type": "markdown",
   "metadata": {},
   "source": [
    "### 1. Adaboost Regressor"
   ]
  },
  {
   "cell_type": "code",
   "execution_count": 9,
   "metadata": {},
   "outputs": [],
   "source": [
    "from sklearn.ensemble import AdaBoostRegressor"
   ]
  },
  {
   "cell_type": "code",
   "execution_count": 10,
   "metadata": {},
   "outputs": [],
   "source": [
    "#creating an AdaBoost instance\n",
    "clf = AdaBoostRegressor(random_state=808)\n",
    "#training the model\n",
    "clf.fit(X_train,y_train)\n",
    "pred_train=clf.predict(X_train)\n",
    "pred_test=clf.predict(X_test)"
   ]
  },
  {
   "cell_type": "code",
   "execution_count": 11,
   "metadata": {},
   "outputs": [
    {
     "name": "stdout",
     "output_type": "stream",
     "text": [
      "Training error: 1.6441434632330953\n",
      "Testing error: 1.6486352819272658\n"
     ]
    }
   ],
   "source": [
    "rmse_train1 = np.sqrt(mse(y_train, pred_train))\n",
    "rmse_test1 = np.sqrt(mse(y_test, pred_test))\n",
    "\n",
    "print('Training error:',rmse_train1)\n",
    "print('Testing error:', rmse_test1)"
   ]
  },
  {
   "cell_type": "code",
   "execution_count": 12,
   "metadata": {},
   "outputs": [
    {
     "name": "stdout",
     "output_type": "stream",
     "text": [
      "R-squared (R2) score: -0.19843873169476045\n"
     ]
    }
   ],
   "source": [
    "r21 = r2_score(y_test, pred_test)\n",
    "print(f'R-squared (R2) score: {r21}')"
   ]
  },
  {
   "cell_type": "markdown",
   "metadata": {},
   "source": [
    "## 2. Tuned Adaboost Regressor"
   ]
  },
  {
   "cell_type": "code",
   "execution_count": 13,
   "metadata": {},
   "outputs": [],
   "source": [
    "from sklearn.tree import DecisionTreeRegressor as dt"
   ]
  },
  {
   "cell_type": "code",
   "execution_count": 14,
   "metadata": {},
   "outputs": [],
   "source": [
    "clf_tuned = AdaBoostRegressor(random_state=96, base_estimator=dt(random_state=101,criterion='squared_error',max_depth=4,max_leaf_nodes=15,min_samples_split=30),n_estimators=200,learning_rate=0.05)"
   ]
  },
  {
   "cell_type": "code",
   "execution_count": 15,
   "metadata": {},
   "outputs": [
    {
     "name": "stderr",
     "output_type": "stream",
     "text": [
      "c:\\Users\\aende\\Data_Analysis\\.venv\\lib\\site-packages\\sklearn\\ensemble\\_base.py:156: FutureWarning: `base_estimator` was renamed to `estimator` in version 1.2 and will be removed in 1.4.\n",
      "  warnings.warn(\n"
     ]
    }
   ],
   "source": [
    "\n",
    "clf_tuned.fit(X_train,y_train)\n",
    "pred_train=clf_tuned.predict(X_train)\n",
    "pred_test=clf_tuned.predict(X_test)"
   ]
  },
  {
   "cell_type": "code",
   "execution_count": 16,
   "metadata": {},
   "outputs": [
    {
     "name": "stdout",
     "output_type": "stream",
     "text": [
      "Training error: 0.7114241192251485\n",
      "Testing error: 0.715205217058389\n"
     ]
    }
   ],
   "source": [
    "rmse_train2 = np.sqrt(mse(y_train, pred_train))\n",
    "rmse_test2 = np.sqrt(mse(y_test, pred_test))\n",
    "\n",
    "print('Training error:',rmse_train2)\n",
    "print('Testing error:', rmse_test2)"
   ]
  },
  {
   "cell_type": "code",
   "execution_count": 17,
   "metadata": {},
   "outputs": [
    {
     "name": "stdout",
     "output_type": "stream",
     "text": [
      "R-squared (R2) score: 0.7744577003583968\n"
     ]
    }
   ],
   "source": [
    "r22 = r2_score(y_test, pred_test)\n",
    "print(f'R-squared (R2) score: {r22}')"
   ]
  },
  {
   "cell_type": "markdown",
   "metadata": {},
   "source": [
    "## 3. Gradient Boosting Regressor"
   ]
  },
  {
   "cell_type": "code",
   "execution_count": 18,
   "metadata": {},
   "outputs": [],
   "source": [
    "from sklearn.ensemble import GradientBoostingRegressor"
   ]
  },
  {
   "cell_type": "code",
   "execution_count": 19,
   "metadata": {},
   "outputs": [],
   "source": [
    "#creating an GradientBoost instance\n",
    "grb = GradientBoostingRegressor(random_state=101)\n",
    "#training the model\n",
    "grb.fit(X_train,y_train)\n",
    "pred_train=grb.predict(X_train)\n",
    "pred_test=grb.predict(X_test)"
   ]
  },
  {
   "cell_type": "code",
   "execution_count": 20,
   "metadata": {},
   "outputs": [
    {
     "name": "stdout",
     "output_type": "stream",
     "text": [
      "Training error: 0.3745000865259489\n",
      "Testing error: 0.37336734206898986\n"
     ]
    }
   ],
   "source": [
    "rmse_train3 = np.sqrt(mse(y_train, pred_train))\n",
    "rmse_test3 = np.sqrt(mse(y_test, pred_test))\n",
    "\n",
    "print('Training error:',rmse_train3)\n",
    "print('Testing error:', rmse_test3)"
   ]
  },
  {
   "cell_type": "code",
   "execution_count": 21,
   "metadata": {},
   "outputs": [
    {
     "name": "stdout",
     "output_type": "stream",
     "text": [
      "R-squared (R2) score: 0.9385333827340063\n"
     ]
    }
   ],
   "source": [
    "r23 = r2_score(y_test, pred_test)\n",
    "print(f'R-squared (R2) score: {r23}')"
   ]
  },
  {
   "cell_type": "markdown",
   "metadata": {},
   "source": [
    "## 4. XGBoost Regressor"
   ]
  },
  {
   "cell_type": "code",
   "execution_count": 22,
   "metadata": {},
   "outputs": [
    {
     "name": "stdout",
     "output_type": "stream",
     "text": [
      "Requirement already satisfied: xgboost in c:\\users\\aende\\data_analysis\\.venv\\lib\\site-packages (2.0.2)\n",
      "Requirement already satisfied: numpy in c:\\users\\aende\\data_analysis\\.venv\\lib\\site-packages (from xgboost) (1.26.2)\n",
      "Requirement already satisfied: scipy in c:\\users\\aende\\data_analysis\\.venv\\lib\\site-packages (from xgboost) (1.11.4)\n",
      "Note: you may need to restart the kernel to use updated packages.\n"
     ]
    }
   ],
   "source": [
    "pip install xgboost"
   ]
  },
  {
   "cell_type": "code",
   "execution_count": 23,
   "metadata": {},
   "outputs": [],
   "source": [
    "import xgboost as xg"
   ]
  },
  {
   "cell_type": "code",
   "execution_count": 24,
   "metadata": {},
   "outputs": [],
   "source": [
    "#creating an XGBoost instance\n",
    "xgb = xg.XGBRegressor(random_state=101)\n",
    "#training the model\n",
    "xgb.fit(X_train,y_train)\n",
    "pred_train=xgb.predict(X_train)\n",
    "pred_test=xgb.predict(X_test)"
   ]
  },
  {
   "cell_type": "code",
   "execution_count": 26,
   "metadata": {},
   "outputs": [
    {
     "name": "stdout",
     "output_type": "stream",
     "text": [
      "Training error: 0.09822854012298676\n",
      "Testing error: 0.1872981968194215\n"
     ]
    }
   ],
   "source": [
    "xgb = xg.XGBRegressor(random_state=101, max_depth = 10)\n",
    "#training the model\n",
    "xgb.fit(X_train,y_train)\n",
    "pred_train=xgb.predict(X_train)\n",
    "pred_test=xgb.predict(X_test)\n",
    "rmse_train4 = np.sqrt(mse(y_train, pred_train))\n",
    "rmse_test4 = np.sqrt(mse(y_test, pred_test))\n",
    "\n",
    "print('Training error:',rmse_train4)\n",
    "print('Testing error:', rmse_test4)"
   ]
  },
  {
   "cell_type": "code",
   "execution_count": 27,
   "metadata": {},
   "outputs": [
    {
     "name": "stdout",
     "output_type": "stream",
     "text": [
      "R-squared (R2) score: 0.9845320111871657\n"
     ]
    }
   ],
   "source": [
    "r24 = r2_score(y_test, pred_test)\n",
    "print(f'R-squared (R2) score: {r24}')"
   ]
  },
  {
   "cell_type": "code",
   "execution_count": 28,
   "metadata": {},
   "outputs": [
    {
     "data": {
      "text/html": [
       "<div>\n",
       "<style scoped>\n",
       "    .dataframe tbody tr th:only-of-type {\n",
       "        vertical-align: middle;\n",
       "    }\n",
       "\n",
       "    .dataframe tbody tr th {\n",
       "        vertical-align: top;\n",
       "    }\n",
       "\n",
       "    .dataframe thead th {\n",
       "        text-align: right;\n",
       "    }\n",
       "</style>\n",
       "<table border=\"1\" class=\"dataframe\">\n",
       "  <thead>\n",
       "    <tr style=\"text-align: right;\">\n",
       "      <th></th>\n",
       "      <th>0</th>\n",
       "      <th>1</th>\n",
       "      <th>2</th>\n",
       "      <th>3</th>\n",
       "      <th>4</th>\n",
       "      <th>5</th>\n",
       "      <th>6</th>\n",
       "      <th>7</th>\n",
       "      <th>8</th>\n",
       "      <th>9</th>\n",
       "      <th>10</th>\n",
       "      <th>11</th>\n",
       "      <th>12</th>\n",
       "      <th>13</th>\n",
       "      <th>14</th>\n",
       "      <th>15</th>\n",
       "      <th>16</th>\n",
       "      <th>17</th>\n",
       "      <th>18</th>\n",
       "      <th>19</th>\n",
       "    </tr>\n",
       "  </thead>\n",
       "  <tbody>\n",
       "    <tr>\n",
       "      <th>0</th>\n",
       "      <td>0.412970</td>\n",
       "      <td>-1.328111</td>\n",
       "      <td>-1.311169</td>\n",
       "      <td>0.596513</td>\n",
       "      <td>-0.252531</td>\n",
       "      <td>2.920776</td>\n",
       "      <td>-1.407448</td>\n",
       "      <td>-1.953588</td>\n",
       "      <td>1.309648</td>\n",
       "      <td>0.571839</td>\n",
       "      <td>-0.871524</td>\n",
       "      <td>0.335676</td>\n",
       "      <td>0.481301</td>\n",
       "      <td>0.092134</td>\n",
       "      <td>-1.253521</td>\n",
       "      <td>-0.398610</td>\n",
       "      <td>-1.672678</td>\n",
       "      <td>-1.745897</td>\n",
       "      <td>3.019067</td>\n",
       "      <td>0.723876</td>\n",
       "    </tr>\n",
       "    <tr>\n",
       "      <th>1</th>\n",
       "      <td>0.548845</td>\n",
       "      <td>-1.832994</td>\n",
       "      <td>-0.320594</td>\n",
       "      <td>-0.002316</td>\n",
       "      <td>-1.220471</td>\n",
       "      <td>1.745614</td>\n",
       "      <td>-1.233464</td>\n",
       "      <td>-2.132382</td>\n",
       "      <td>1.846514</td>\n",
       "      <td>0.839227</td>\n",
       "      <td>-0.576741</td>\n",
       "      <td>0.000239</td>\n",
       "      <td>0.324575</td>\n",
       "      <td>0.109933</td>\n",
       "      <td>-0.542722</td>\n",
       "      <td>-0.156204</td>\n",
       "      <td>-2.507055</td>\n",
       "      <td>-1.242702</td>\n",
       "      <td>2.531003</td>\n",
       "      <td>0.908869</td>\n",
       "    </tr>\n",
       "    <tr>\n",
       "      <th>2</th>\n",
       "      <td>-0.629859</td>\n",
       "      <td>-1.747690</td>\n",
       "      <td>0.917176</td>\n",
       "      <td>-0.076270</td>\n",
       "      <td>-0.068997</td>\n",
       "      <td>-1.489230</td>\n",
       "      <td>-0.269612</td>\n",
       "      <td>-1.867079</td>\n",
       "      <td>2.598703</td>\n",
       "      <td>5.341688</td>\n",
       "      <td>3.701759</td>\n",
       "      <td>3.787111</td>\n",
       "      <td>-5.298174</td>\n",
       "      <td>19.823277</td>\n",
       "      <td>-4.065362</td>\n",
       "      <td>-0.302559</td>\n",
       "      <td>2.207974</td>\n",
       "      <td>-0.427654</td>\n",
       "      <td>0.351574</td>\n",
       "      <td>-1.050571</td>\n",
       "    </tr>\n",
       "    <tr>\n",
       "      <th>3</th>\n",
       "      <td>-0.315670</td>\n",
       "      <td>-0.774497</td>\n",
       "      <td>0.160701</td>\n",
       "      <td>0.096539</td>\n",
       "      <td>-0.590401</td>\n",
       "      <td>-1.616038</td>\n",
       "      <td>0.267813</td>\n",
       "      <td>-2.119834</td>\n",
       "      <td>1.081455</td>\n",
       "      <td>2.508953</td>\n",
       "      <td>4.085114</td>\n",
       "      <td>3.301514</td>\n",
       "      <td>0.561295</td>\n",
       "      <td>-2.662588</td>\n",
       "      <td>-0.944625</td>\n",
       "      <td>-0.113196</td>\n",
       "      <td>1.024592</td>\n",
       "      <td>-0.518176</td>\n",
       "      <td>-0.238494</td>\n",
       "      <td>-0.416557</td>\n",
       "    </tr>\n",
       "    <tr>\n",
       "      <th>4</th>\n",
       "      <td>-0.267802</td>\n",
       "      <td>-0.801606</td>\n",
       "      <td>0.092629</td>\n",
       "      <td>0.168490</td>\n",
       "      <td>-0.507406</td>\n",
       "      <td>-1.645254</td>\n",
       "      <td>0.230299</td>\n",
       "      <td>-1.973029</td>\n",
       "      <td>1.125650</td>\n",
       "      <td>2.525847</td>\n",
       "      <td>4.024626</td>\n",
       "      <td>3.241451</td>\n",
       "      <td>0.582549</td>\n",
       "      <td>-2.677222</td>\n",
       "      <td>-0.988786</td>\n",
       "      <td>0.015292</td>\n",
       "      <td>0.994405</td>\n",
       "      <td>-0.559089</td>\n",
       "      <td>-0.333687</td>\n",
       "      <td>-0.470237</td>\n",
       "    </tr>\n",
       "    <tr>\n",
       "      <th>...</th>\n",
       "      <td>...</td>\n",
       "      <td>...</td>\n",
       "      <td>...</td>\n",
       "      <td>...</td>\n",
       "      <td>...</td>\n",
       "      <td>...</td>\n",
       "      <td>...</td>\n",
       "      <td>...</td>\n",
       "      <td>...</td>\n",
       "      <td>...</td>\n",
       "      <td>...</td>\n",
       "      <td>...</td>\n",
       "      <td>...</td>\n",
       "      <td>...</td>\n",
       "      <td>...</td>\n",
       "      <td>...</td>\n",
       "      <td>...</td>\n",
       "      <td>...</td>\n",
       "      <td>...</td>\n",
       "      <td>...</td>\n",
       "    </tr>\n",
       "    <tr>\n",
       "      <th>99951</th>\n",
       "      <td>-0.170602</td>\n",
       "      <td>0.514127</td>\n",
       "      <td>-0.420810</td>\n",
       "      <td>-0.711458</td>\n",
       "      <td>1.024277</td>\n",
       "      <td>-0.150584</td>\n",
       "      <td>-0.785620</td>\n",
       "      <td>2.747464</td>\n",
       "      <td>1.529005</td>\n",
       "      <td>-0.217253</td>\n",
       "      <td>0.206262</td>\n",
       "      <td>0.897704</td>\n",
       "      <td>-0.164327</td>\n",
       "      <td>-0.261815</td>\n",
       "      <td>0.093771</td>\n",
       "      <td>-0.608278</td>\n",
       "      <td>-0.258051</td>\n",
       "      <td>0.702085</td>\n",
       "      <td>1.200536</td>\n",
       "      <td>-0.875054</td>\n",
       "    </tr>\n",
       "    <tr>\n",
       "      <th>99952</th>\n",
       "      <td>-0.207518</td>\n",
       "      <td>0.360930</td>\n",
       "      <td>-0.450364</td>\n",
       "      <td>-0.741410</td>\n",
       "      <td>1.069236</td>\n",
       "      <td>0.070012</td>\n",
       "      <td>-0.671225</td>\n",
       "      <td>-0.285355</td>\n",
       "      <td>-0.142382</td>\n",
       "      <td>1.194491</td>\n",
       "      <td>-1.137398</td>\n",
       "      <td>-0.066538</td>\n",
       "      <td>0.345988</td>\n",
       "      <td>0.008159</td>\n",
       "      <td>-0.993798</td>\n",
       "      <td>0.429576</td>\n",
       "      <td>-0.531570</td>\n",
       "      <td>0.224616</td>\n",
       "      <td>0.365926</td>\n",
       "      <td>-1.000834</td>\n",
       "    </tr>\n",
       "    <tr>\n",
       "      <th>99953</th>\n",
       "      <td>-0.334761</td>\n",
       "      <td>0.337433</td>\n",
       "      <td>-0.420034</td>\n",
       "      <td>-0.704958</td>\n",
       "      <td>1.035798</td>\n",
       "      <td>0.028851</td>\n",
       "      <td>-0.511069</td>\n",
       "      <td>1.035440</td>\n",
       "      <td>0.483329</td>\n",
       "      <td>0.046428</td>\n",
       "      <td>-0.360650</td>\n",
       "      <td>0.020922</td>\n",
       "      <td>0.159823</td>\n",
       "      <td>-0.153200</td>\n",
       "      <td>-0.673344</td>\n",
       "      <td>0.692741</td>\n",
       "      <td>0.130563</td>\n",
       "      <td>-1.072404</td>\n",
       "      <td>-0.759687</td>\n",
       "      <td>-0.435302</td>\n",
       "    </tr>\n",
       "    <tr>\n",
       "      <th>99954</th>\n",
       "      <td>-0.168849</td>\n",
       "      <td>0.367004</td>\n",
       "      <td>-0.401619</td>\n",
       "      <td>-0.761220</td>\n",
       "      <td>1.042511</td>\n",
       "      <td>0.095983</td>\n",
       "      <td>-0.596533</td>\n",
       "      <td>-0.761811</td>\n",
       "      <td>-0.448447</td>\n",
       "      <td>0.984386</td>\n",
       "      <td>-0.950371</td>\n",
       "      <td>0.106359</td>\n",
       "      <td>0.355595</td>\n",
       "      <td>0.063816</td>\n",
       "      <td>-0.896432</td>\n",
       "      <td>-0.284839</td>\n",
       "      <td>-0.748607</td>\n",
       "      <td>0.500290</td>\n",
       "      <td>0.539342</td>\n",
       "      <td>-1.180844</td>\n",
       "    </tr>\n",
       "    <tr>\n",
       "      <th>99955</th>\n",
       "      <td>-0.241955</td>\n",
       "      <td>0.352011</td>\n",
       "      <td>-0.303046</td>\n",
       "      <td>-0.752502</td>\n",
       "      <td>0.971658</td>\n",
       "      <td>0.091181</td>\n",
       "      <td>-0.331809</td>\n",
       "      <td>-0.108055</td>\n",
       "      <td>-0.251226</td>\n",
       "      <td>-0.457826</td>\n",
       "      <td>0.088213</td>\n",
       "      <td>0.435875</td>\n",
       "      <td>0.182879</td>\n",
       "      <td>-0.019624</td>\n",
       "      <td>-0.439665</td>\n",
       "      <td>-1.021856</td>\n",
       "      <td>-0.390326</td>\n",
       "      <td>-0.410788</td>\n",
       "      <td>-0.343487</td>\n",
       "      <td>-0.867325</td>\n",
       "    </tr>\n",
       "  </tbody>\n",
       "</table>\n",
       "<p>99956 rows × 20 columns</p>\n",
       "</div>"
      ],
      "text/plain": [
       "             0         1         2         3         4         5         6   \\\n",
       "0      0.412970 -1.328111 -1.311169  0.596513 -0.252531  2.920776 -1.407448   \n",
       "1      0.548845 -1.832994 -0.320594 -0.002316 -1.220471  1.745614 -1.233464   \n",
       "2     -0.629859 -1.747690  0.917176 -0.076270 -0.068997 -1.489230 -0.269612   \n",
       "3     -0.315670 -0.774497  0.160701  0.096539 -0.590401 -1.616038  0.267813   \n",
       "4     -0.267802 -0.801606  0.092629  0.168490 -0.507406 -1.645254  0.230299   \n",
       "...         ...       ...       ...       ...       ...       ...       ...   \n",
       "99951 -0.170602  0.514127 -0.420810 -0.711458  1.024277 -0.150584 -0.785620   \n",
       "99952 -0.207518  0.360930 -0.450364 -0.741410  1.069236  0.070012 -0.671225   \n",
       "99953 -0.334761  0.337433 -0.420034 -0.704958  1.035798  0.028851 -0.511069   \n",
       "99954 -0.168849  0.367004 -0.401619 -0.761220  1.042511  0.095983 -0.596533   \n",
       "99955 -0.241955  0.352011 -0.303046 -0.752502  0.971658  0.091181 -0.331809   \n",
       "\n",
       "             7         8         9         10        11        12         13  \\\n",
       "0     -1.953588  1.309648  0.571839 -0.871524  0.335676  0.481301   0.092134   \n",
       "1     -2.132382  1.846514  0.839227 -0.576741  0.000239  0.324575   0.109933   \n",
       "2     -1.867079  2.598703  5.341688  3.701759  3.787111 -5.298174  19.823277   \n",
       "3     -2.119834  1.081455  2.508953  4.085114  3.301514  0.561295  -2.662588   \n",
       "4     -1.973029  1.125650  2.525847  4.024626  3.241451  0.582549  -2.677222   \n",
       "...         ...       ...       ...       ...       ...       ...        ...   \n",
       "99951  2.747464  1.529005 -0.217253  0.206262  0.897704 -0.164327  -0.261815   \n",
       "99952 -0.285355 -0.142382  1.194491 -1.137398 -0.066538  0.345988   0.008159   \n",
       "99953  1.035440  0.483329  0.046428 -0.360650  0.020922  0.159823  -0.153200   \n",
       "99954 -0.761811 -0.448447  0.984386 -0.950371  0.106359  0.355595   0.063816   \n",
       "99955 -0.108055 -0.251226 -0.457826  0.088213  0.435875  0.182879  -0.019624   \n",
       "\n",
       "             14        15        16        17        18        19  \n",
       "0     -1.253521 -0.398610 -1.672678 -1.745897  3.019067  0.723876  \n",
       "1     -0.542722 -0.156204 -2.507055 -1.242702  2.531003  0.908869  \n",
       "2     -4.065362 -0.302559  2.207974 -0.427654  0.351574 -1.050571  \n",
       "3     -0.944625 -0.113196  1.024592 -0.518176 -0.238494 -0.416557  \n",
       "4     -0.988786  0.015292  0.994405 -0.559089 -0.333687 -0.470237  \n",
       "...         ...       ...       ...       ...       ...       ...  \n",
       "99951  0.093771 -0.608278 -0.258051  0.702085  1.200536 -0.875054  \n",
       "99952 -0.993798  0.429576 -0.531570  0.224616  0.365926 -1.000834  \n",
       "99953 -0.673344  0.692741  0.130563 -1.072404 -0.759687 -0.435302  \n",
       "99954 -0.896432 -0.284839 -0.748607  0.500290  0.539342 -1.180844  \n",
       "99955 -0.439665 -1.021856 -0.390326 -0.410788 -0.343487 -0.867325  \n",
       "\n",
       "[99956 rows x 20 columns]"
      ]
     },
     "execution_count": 28,
     "metadata": {},
     "output_type": "execute_result"
    }
   ],
   "source": [
    "from sklearn.decomposition import PCA\n",
    "from sklearn.preprocessing import StandardScaler\n",
    "import pandas as pd\n",
    "\n",
    "X = stockx_data.drop([\"Sale Price\", 'Price_Percentage_change', \"Other States\", \"New York\", \"Texas\"], axis=1)\n",
    "\n",
    "# Standardize Data\n",
    "scaler = StandardScaler()\n",
    "X_scaled = scaler.fit_transform(X)\n",
    "\n",
    "# Apply PCA\n",
    "pca = PCA(n_components=0.95)  # Keep 95% of the variance\n",
    "X_pca = pca.fit_transform(X_scaled)\n",
    "\n",
    "X_pca_df = pd.DataFrame(data=X_pca)\n",
    "X_pca_df"
   ]
  },
  {
   "cell_type": "code",
   "execution_count": 29,
   "metadata": {},
   "outputs": [
    {
     "name": "stdout",
     "output_type": "stream",
     "text": [
      "Random Forest Model MSE with PCA: 0.053911438464220675\n",
      "Root Mean Squared Error (RMSE): 0.23218836849467864\n",
      "R-squared: 0.9762289931867558\n"
     ]
    }
   ],
   "source": [
    "from sklearn.metrics import mean_squared_error\n",
    "\n",
    "X_train_pca, X_test_pca, y_train, y_test = train_test_split(X_pca_df, y, test_size=0.33, random_state=808)\n",
    "\n",
    "cart_model = xg.XGBRegressor(random_state=101, max_depth = 10)\n",
    "cart_model.fit(X_train_pca, y_train)\n",
    "\n",
    "cart_predictions_pca = cart_model.predict(X_test_pca)\n",
    "cart_mse_pca = mean_squared_error(y_test, cart_predictions_pca)\n",
    "rmse_pca = np.sqrt(cart_mse_pca)\n",
    "r_squared_pca = r2_score(y_test, cart_predictions_pca)\n",
    "\n",
    "print(f\"Random Forest Model MSE with PCA: {cart_mse_pca}\")\n",
    "print(f\"Root Mean Squared Error (RMSE): {rmse_pca}\")\n",
    "print(f\"R-squared: {r_squared_pca}\")"
   ]
  },
  {
   "cell_type": "markdown",
   "metadata": {},
   "source": [
    "## Summary"
   ]
  },
  {
   "cell_type": "code",
   "execution_count": 30,
   "metadata": {},
   "outputs": [
    {
     "data": {
      "text/html": [
       "<div>\n",
       "<style scoped>\n",
       "    .dataframe tbody tr th:only-of-type {\n",
       "        vertical-align: middle;\n",
       "    }\n",
       "\n",
       "    .dataframe tbody tr th {\n",
       "        vertical-align: top;\n",
       "    }\n",
       "\n",
       "    .dataframe thead th {\n",
       "        text-align: right;\n",
       "    }\n",
       "</style>\n",
       "<table border=\"1\" class=\"dataframe\">\n",
       "  <thead>\n",
       "    <tr style=\"text-align: right;\">\n",
       "      <th></th>\n",
       "      <th>Model</th>\n",
       "      <th>Training RMSE</th>\n",
       "      <th>Test RMSE</th>\n",
       "      <th>OSR^2</th>\n",
       "    </tr>\n",
       "  </thead>\n",
       "  <tbody>\n",
       "    <tr>\n",
       "      <th>0</th>\n",
       "      <td>AdaBoost</td>\n",
       "      <td>1.644143</td>\n",
       "      <td>1.648635</td>\n",
       "      <td>-0.198439</td>\n",
       "    </tr>\n",
       "    <tr>\n",
       "      <th>1</th>\n",
       "      <td>Tuned AdaBoost</td>\n",
       "      <td>0.711424</td>\n",
       "      <td>0.715205</td>\n",
       "      <td>0.774458</td>\n",
       "    </tr>\n",
       "    <tr>\n",
       "      <th>2</th>\n",
       "      <td>GradientBoost</td>\n",
       "      <td>0.374500</td>\n",
       "      <td>0.373367</td>\n",
       "      <td>0.938533</td>\n",
       "    </tr>\n",
       "    <tr>\n",
       "      <th>3</th>\n",
       "      <td>XGBoost</td>\n",
       "      <td>0.098229</td>\n",
       "      <td>0.187298</td>\n",
       "      <td>0.984532</td>\n",
       "    </tr>\n",
       "  </tbody>\n",
       "</table>\n",
       "</div>"
      ],
      "text/plain": [
       "            Model  Training RMSE  Test RMSE     OSR^2\n",
       "0        AdaBoost       1.644143   1.648635 -0.198439\n",
       "1  Tuned AdaBoost       0.711424   0.715205  0.774458\n",
       "2   GradientBoost       0.374500   0.373367  0.938533\n",
       "3         XGBoost       0.098229   0.187298  0.984532"
      ]
     },
     "execution_count": 30,
     "metadata": {},
     "output_type": "execute_result"
    }
   ],
   "source": [
    "mdata = {'Model': [\"AdaBoost\",\"Tuned AdaBoost\", \"GradientBoost\",\"XGBoost\"],\n",
    "        \"Training RMSE\": [rmse_train1,rmse_train2,rmse_train3,rmse_train4],\n",
    "        \"Test RMSE\": [rmse_test1,rmse_test2,rmse_test3,rmse_test4],\n",
    "        \"OSR^2\": [r21,r22,r23,r24]} \n",
    "pd.DataFrame.from_dict(mdata)"
   ]
  },
  {
   "cell_type": "markdown",
   "metadata": {},
   "source": [
    "## Conclusion :\n",
    "**Gradient Boost and Xgboost are doing better even without Hyperparameter Tuning. We can use Gradient Boost Regressor as Testing Error is least i.e it performs the best on  unseen Data**"
   ]
  }
 ],
 "metadata": {
  "kernelspec": {
   "display_name": "Python 3 (ipykernel)",
   "language": "python",
   "name": "python3"
  },
  "language_info": {
   "codemirror_mode": {
    "name": "ipython",
    "version": 3
   },
   "file_extension": ".py",
   "mimetype": "text/x-python",
   "name": "python",
   "nbconvert_exporter": "python",
   "pygments_lexer": "ipython3",
   "version": "3.9.13"
  }
 },
 "nbformat": 4,
 "nbformat_minor": 4
}
