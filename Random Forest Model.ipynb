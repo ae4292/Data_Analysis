{
 "cells": [
  {
   "cell_type": "code",
   "execution_count": 1,
   "id": "e7bc513f",
   "metadata": {},
   "outputs": [],
   "source": [
    "#I used public data available from the StockX Data Contest, which provided me with a dataset \n",
    "#of 99,956 transactions that occurred between 2017 and 2019. This dataset included two prominent \n",
    "#brands, Yeezy and Nike Off-White, as well as over 50 different sneaker styles.\n",
    "\n",
    "#In an effort to enhance the dataset, I manually gathered information on colorways and the number of sales from \n",
    "#the StockX website. Subsequently, I converted style and color information into dummy variables. \n",
    "\n",
    "#For my modeling purposes, The \"price premium\" is calculated as the difference between the sale price of a \n",
    "#product (in this case, sneakers) and its original retail price. It represents how much more (or less) a \n",
    "#customer is willing to pay for a product compared to its original retail price. In other words, it quantifies \n",
    "#the additional amount that buyers are willing to spend, or the markup, above the standard retail cost for a \n",
    "#particular product.\n",
    "\n",
    "#The input variables for my analysis included the number of days since  release, sneaker style, colorway, \n",
    "#shoe size, and the number of sales. These variables allowed me to develop models and gain insights into \n",
    "#the factors influencing sneaker prices in this market."
   ]
  },
  {
   "cell_type": "code",
   "execution_count": 2,
   "id": "fbfc7d2c",
   "metadata": {},
   "outputs": [],
   "source": [
    "import pandas as pd\n",
    "import numpy as np\n",
    "import datetime\n",
    "from datetime import date\n",
    "import matplotlib.pyplot as plt\n",
    "\n",
    "stockx_data = pd.read_excel(\"./StockX-Data-Contest-2019.xlsx\",sheet_name=\"Raw Data\")\n",
    "color = pd.read_excel(\"./supplemental_data_colorway.xlsx\",sheet_name=\"Sheet1\")"
   ]
  },
  {
   "cell_type": "code",
   "execution_count": 3,
   "id": "2c9f9b6f",
   "metadata": {},
   "outputs": [],
   "source": [
    "# --- Data Cleaning ---\n",
    "# calculate price premium: (sale price - retail price)/retail price\n",
    "stockx_data[\"Price_Percentage_change\"] = (stockx_data['Sale Price'] - stockx_data['Retail Price'])/stockx_data['Retail Price']\n",
    "\n",
    "# calculate days since release: order data - release date\n",
    "stockx_data[\"Days_Since_Release\"] = (pd.to_datetime(stockx_data['Order Date']) - pd.to_datetime(stockx_data['Release Date']))/np.timedelta64('1','D')\n",
    "\n",
    "# --- style variables ---\n",
    "# style: v2\n",
    "stockx_data[\"yeezy\"] = stockx_data['Sneaker Name'].apply(lambda x : 1 if 'Yeezy' in x.split(\"-\") else 0)\n",
    "# style: airjordan\n",
    "stockx_data[\"airjordan\"] = stockx_data['Sneaker Name'].apply(lambda x : 1 if 'Jordan' in x.split(\"-\") else 0)\n",
    "# style: airforce\n",
    "stockx_data[\"airforce\"] = stockx_data['Sneaker Name'].apply(lambda x : 1 if 'Force' in x.split(\"-\") else 0)\n",
    "# style: airmax90\n",
    "stockx_data[\"airmax90\"] = stockx_data['Sneaker Name'].apply(lambda x : 1 if '90' in x.split(\"-\") else 0)\n",
    "# style: airmax97\n",
    "stockx_data[\"airmax97\"] = stockx_data['Sneaker Name'].apply(lambda x : 1 if '97' in x.split(\"-\") else 0)\n",
    "# style: presto\n",
    "stockx_data[\"presto\"] = stockx_data['Sneaker Name'].apply(lambda x : 1 if 'Presto' in x.split(\"-\") else 0)\n",
    "# style: vapormax\n",
    "stockx_data[\"vapormax\"] = stockx_data['Sneaker Name'].apply(lambda x : 1 if 'VaporMax' in x.split(\"-\") else 0)\n",
    "# style: blazer\n",
    "stockx_data[\"blazer\"] = stockx_data['Sneaker Name'].apply(lambda x : 1 if 'Blazer' in x.split(\"-\") else 0)\n",
    "# style: zoom\n",
    "stockx_data[\"zoom\"] = stockx_data['Sneaker Name'].apply(lambda x : 1 if 'Zoom' in x.split(\"-\") else 0)\n",
    "# style: zoom\n",
    "stockx_data[\"react\"] = stockx_data['Sneaker Name'].apply(lambda x : 1 if 'React' in x.split(\"-\") else 0)\n",
    "\n",
    "# --- state variables ---\n",
    "# creating the california variable\n",
    "stockx_data[\"California\"] = stockx_data[\"Buyer Region\"].apply(lambda x : 1 if 'California' in x else 0)\n",
    "# creating the new_york variable\n",
    "stockx_data[\"New York\"] = stockx_data[\"Buyer Region\"].apply(lambda x : 1 if 'New York' in x else 0)\n",
    "# creating the oregon variable\n",
    "stockx_data[\"Oregon\"] = stockx_data[\"Buyer Region\"].apply(lambda x : 1 if 'Oregon' in x else 0)\n",
    "# creating the florida variable\n",
    "stockx_data[\"Florida\"] = stockx_data[\"Buyer Region\"].apply(lambda x : 1 if 'Florida' in x else 0)\n",
    "# creating the texas variable\n",
    "stockx_data[\"Texas\"] = stockx_data[\"Buyer Region\"].apply(lambda x : 1 if 'Texas' in x else 0)\n",
    "# creating the other_state variable\n",
    "above5pct_states = [\"California\", \"New York\", \"Oregon\", \"Florida\", \"Texas\"]\n",
    "stockx_data[\"Other States\"] = pd.Series(list(map(int,~stockx_data[\"Buyer Region\"].isin(above5pct_states))))\n"
   ]
  },
  {
   "cell_type": "code",
   "execution_count": 4,
   "id": "ef1ea79c",
   "metadata": {},
   "outputs": [],
   "source": [
    "stockx_data = stockx_data.merge(color, left_on = 'Sneaker Name', right_on = 'Style', how = 'left')"
   ]
  },
  {
   "cell_type": "code",
   "execution_count": 5,
   "id": "a7d51daf",
   "metadata": {},
   "outputs": [],
   "source": [
    "# drop columns that have been coded\n",
    "# keep retail and sales prices for further analysis\n",
    "# stockx_data = stockx_data.drop(columns = ['Retail Price','Order Date', 'Brand','Sneaker Name', 'Release Date', 'Buyer Region',\n",
    "#                                          'Website', 'Product Line', 'Style','weeknum', 'Nike Air Force', 'Adidas Yeezy', \n",
    "#                                           'Nike Air Max', 'Nike Zoom','Nike Air VaporMax', 'Nike Blazers', 'Air Jordan', \n",
    "#                                           'Nike React','Nike Presto'])\n",
    "stockx_data = stockx_data.drop(columns = ['Order Date', 'Brand','Sneaker Name', 'Release Date', 'Buyer Region',\n",
    "                                         'Website', 'Product Line', 'Style'])"
   ]
  },
  {
   "cell_type": "code",
   "execution_count": 6,
   "id": "783b2b80",
   "metadata": {},
   "outputs": [],
   "source": [
    "# turn all the nan value to the 0\n",
    "stockx_data = stockx_data.fillna(0)"
   ]
  },
  {
   "cell_type": "markdown",
   "id": "f0f40f9f",
   "metadata": {},
   "source": [
    "### Random Forest Regressor"
   ]
  },
  {
   "cell_type": "code",
   "execution_count": 7,
   "id": "1dc39974-18c6-4d3a-890c-4452786159c3",
   "metadata": {},
   "outputs": [],
   "source": [
    "from sklearn.ensemble import RandomForestRegressor\n",
    "from sklearn.model_selection import train_test_split\n",
    "from sklearn.metrics import mean_squared_error\n",
    "import numpy as np\n",
    "\n",
    "\n",
    "X = stockx_data.drop([\"Sale Price\", 'Price_Percentage_change', \"Other States\", \"New York\", \"Texas\"], axis=1)\n",
    "y = stockx_data[\"Price_Percentage_change\"]\n",
    "\n",
    "X_train, X_test, y_train, y_test = train_test_split(X, y, test_size=0.33, random_state=808)"
   ]
  },
  {
   "cell_type": "code",
   "execution_count": 8,
   "id": "a46af043-9950-4212-934a-afbb4407f44d",
   "metadata": {},
   "outputs": [
    {
     "data": {
      "text/html": [
       "<style>#sk-container-id-1 {color: black;background-color: white;}#sk-container-id-1 pre{padding: 0;}#sk-container-id-1 div.sk-toggleable {background-color: white;}#sk-container-id-1 label.sk-toggleable__label {cursor: pointer;display: block;width: 100%;margin-bottom: 0;padding: 0.3em;box-sizing: border-box;text-align: center;}#sk-container-id-1 label.sk-toggleable__label-arrow:before {content: \"▸\";float: left;margin-right: 0.25em;color: #696969;}#sk-container-id-1 label.sk-toggleable__label-arrow:hover:before {color: black;}#sk-container-id-1 div.sk-estimator:hover label.sk-toggleable__label-arrow:before {color: black;}#sk-container-id-1 div.sk-toggleable__content {max-height: 0;max-width: 0;overflow: hidden;text-align: left;background-color: #f0f8ff;}#sk-container-id-1 div.sk-toggleable__content pre {margin: 0.2em;color: black;border-radius: 0.25em;background-color: #f0f8ff;}#sk-container-id-1 input.sk-toggleable__control:checked~div.sk-toggleable__content {max-height: 200px;max-width: 100%;overflow: auto;}#sk-container-id-1 input.sk-toggleable__control:checked~label.sk-toggleable__label-arrow:before {content: \"▾\";}#sk-container-id-1 div.sk-estimator input.sk-toggleable__control:checked~label.sk-toggleable__label {background-color: #d4ebff;}#sk-container-id-1 div.sk-label input.sk-toggleable__control:checked~label.sk-toggleable__label {background-color: #d4ebff;}#sk-container-id-1 input.sk-hidden--visually {border: 0;clip: rect(1px 1px 1px 1px);clip: rect(1px, 1px, 1px, 1px);height: 1px;margin: -1px;overflow: hidden;padding: 0;position: absolute;width: 1px;}#sk-container-id-1 div.sk-estimator {font-family: monospace;background-color: #f0f8ff;border: 1px dotted black;border-radius: 0.25em;box-sizing: border-box;margin-bottom: 0.5em;}#sk-container-id-1 div.sk-estimator:hover {background-color: #d4ebff;}#sk-container-id-1 div.sk-parallel-item::after {content: \"\";width: 100%;border-bottom: 1px solid gray;flex-grow: 1;}#sk-container-id-1 div.sk-label:hover label.sk-toggleable__label {background-color: #d4ebff;}#sk-container-id-1 div.sk-serial::before {content: \"\";position: absolute;border-left: 1px solid gray;box-sizing: border-box;top: 0;bottom: 0;left: 50%;z-index: 0;}#sk-container-id-1 div.sk-serial {display: flex;flex-direction: column;align-items: center;background-color: white;padding-right: 0.2em;padding-left: 0.2em;position: relative;}#sk-container-id-1 div.sk-item {position: relative;z-index: 1;}#sk-container-id-1 div.sk-parallel {display: flex;align-items: stretch;justify-content: center;background-color: white;position: relative;}#sk-container-id-1 div.sk-item::before, #sk-container-id-1 div.sk-parallel-item::before {content: \"\";position: absolute;border-left: 1px solid gray;box-sizing: border-box;top: 0;bottom: 0;left: 50%;z-index: -1;}#sk-container-id-1 div.sk-parallel-item {display: flex;flex-direction: column;z-index: 1;position: relative;background-color: white;}#sk-container-id-1 div.sk-parallel-item:first-child::after {align-self: flex-end;width: 50%;}#sk-container-id-1 div.sk-parallel-item:last-child::after {align-self: flex-start;width: 50%;}#sk-container-id-1 div.sk-parallel-item:only-child::after {width: 0;}#sk-container-id-1 div.sk-dashed-wrapped {border: 1px dashed gray;margin: 0 0.4em 0.5em 0.4em;box-sizing: border-box;padding-bottom: 0.4em;background-color: white;}#sk-container-id-1 div.sk-label label {font-family: monospace;font-weight: bold;display: inline-block;line-height: 1.2em;}#sk-container-id-1 div.sk-label-container {text-align: center;}#sk-container-id-1 div.sk-container {/* jupyter's `normalize.less` sets `[hidden] { display: none; }` but bootstrap.min.css set `[hidden] { display: none !important; }` so we also need the `!important` here to be able to override the default hidden behavior on the sphinx rendered scikit-learn.org. See: https://github.com/scikit-learn/scikit-learn/issues/21755 */display: inline-block !important;position: relative;}#sk-container-id-1 div.sk-text-repr-fallback {display: none;}</style><div id=\"sk-container-id-1\" class=\"sk-top-container\"><div class=\"sk-text-repr-fallback\"><pre>RandomForestRegressor()</pre><b>In a Jupyter environment, please rerun this cell to show the HTML representation or trust the notebook. <br />On GitHub, the HTML representation is unable to render, please try loading this page with nbviewer.org.</b></div><div class=\"sk-container\" hidden><div class=\"sk-item\"><div class=\"sk-estimator sk-toggleable\"><input class=\"sk-toggleable__control sk-hidden--visually\" id=\"sk-estimator-id-1\" type=\"checkbox\" checked><label for=\"sk-estimator-id-1\" class=\"sk-toggleable__label sk-toggleable__label-arrow\">RandomForestRegressor</label><div class=\"sk-toggleable__content\"><pre>RandomForestRegressor()</pre></div></div></div></div></div>"
      ],
      "text/plain": [
       "RandomForestRegressor()"
      ]
     },
     "execution_count": 8,
     "metadata": {},
     "output_type": "execute_result"
    }
   ],
   "source": [
    "rf_model = RandomForestRegressor()\n",
    "rf_model.fit(X_train, y_train)"
   ]
  },
  {
   "cell_type": "code",
   "execution_count": 9,
   "id": "ac71dfa5-02a8-48bd-90dd-44757798b407",
   "metadata": {},
   "outputs": [
    {
     "name": "stdout",
     "output_type": "stream",
     "text": [
      "Mean Squared Error (MSE): 0.03014124557597986\n",
      "Root Mean Squared Error (RMSE): 0.17361234281000837\n",
      "R-squared: 0.9867099121381858\n"
     ]
    }
   ],
   "source": [
    "from sklearn.metrics import mean_squared_error, r2_score\n",
    "\n",
    "rf_predictions = rf_model.predict(X_test)\n",
    "\n",
    "# Calculate Mean Squared Error (MSE)\n",
    "mse = mean_squared_error(y_test, cart_predictions)\n",
    "\n",
    "# Calculate Root Mean Squared Error (RMSE)\n",
    "rmse = np.sqrt(mse)\n",
    "\n",
    "# Calculate R-squared\n",
    "r2 = r2_score(y_test, cart_predictions)\n",
    "\n",
    "print(f\"Mean Squared Error (MSE): {mse}\")\n",
    "print(f\"Root Mean Squared Error (RMSE): {rmse}\")\n",
    "print(f\"R-squared: {r2}\")"
   ]
  },
  {
   "cell_type": "code",
   "execution_count": 12,
   "id": "9ce04922",
   "metadata": {},
   "outputs": [
    {
     "data": {
      "text/plain": [
       "0.9844927785717358"
      ]
     },
     "execution_count": 12,
     "metadata": {},
     "output_type": "execute_result"
    }
   ],
   "source": [
    "#Setting parameter values to reduce possible overfitting\n",
    "best_mdl = RandomForestRegressor(min_samples_leaf = 5, min_samples_split = 20, ccp_alpha = 0.0, random_state = 88)\n",
    "best_mdl.fit(X_train,y_train)\n",
    "pred = best_mdl.predict(X_test)\n",
    "r2_score(y_test,pred)"
   ]
  },
  {
   "cell_type": "code",
   "execution_count": null,
   "id": "3a71326b",
   "metadata": {},
   "outputs": [],
   "source": []
  }
 ],
 "metadata": {
  "kernelspec": {
   "display_name": "Python 3 (ipykernel)",
   "language": "python",
   "name": "python3"
  },
  "language_info": {
   "codemirror_mode": {
    "name": "ipython",
    "version": 3
   },
   "file_extension": ".py",
   "mimetype": "text/x-python",
   "name": "python",
   "nbconvert_exporter": "python",
   "pygments_lexer": "ipython3",
   "version": "3.9.15"
  }
 },
 "nbformat": 4,
 "nbformat_minor": 5
}
